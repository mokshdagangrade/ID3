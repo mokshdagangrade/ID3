{
  "nbformat": 4,
  "nbformat_minor": 0,
  "metadata": {
    "colab": {
      "name": "ID3_DM.ipynb",
      "provenance": [],
      "collapsed_sections": [],
      "authorship_tag": "ABX9TyPrMnFOWB3fYge4/oU+Qf0K"
    },
    "kernelspec": {
      "name": "python3",
      "display_name": "Python 3"
    },
    "language_info": {
      "name": "python"
    }
  },
  "cells": [
    {
      "cell_type": "code",
      "metadata": {
        "id": "CsI929Te_Iu_"
      },
      "source": [
        "import numpy as np\n",
        "import pandas as pd\n",
        "eps = np.finfo(float).eps\n",
        "from numpy import log2 as log"
      ],
      "execution_count": null,
      "outputs": []
    },
    {
      "cell_type": "code",
      "metadata": {
        "id": "mkctXdBB_WEk",
        "colab": {
          "base_uri": "https://localhost:8080/",
          "height": 488
        },
        "outputId": "1f110f4d-5f06-40e7-8ea4-67c357e2cdf5"
      },
      "source": [
        "df = pd.read_csv(\"/content/data_jobs.csv\")\n",
        "df"
      ],
      "execution_count": null,
      "outputs": [
        {
          "output_type": "execute_result",
          "data": {
            "text/html": [
              "<div>\n",
              "<style scoped>\n",
              "    .dataframe tbody tr th:only-of-type {\n",
              "        vertical-align: middle;\n",
              "    }\n",
              "\n",
              "    .dataframe tbody tr th {\n",
              "        vertical-align: top;\n",
              "    }\n",
              "\n",
              "    .dataframe thead th {\n",
              "        text-align: right;\n",
              "    }\n",
              "</style>\n",
              "<table border=\"1\" class=\"dataframe\">\n",
              "  <thead>\n",
              "    <tr style=\"text-align: right;\">\n",
              "      <th></th>\n",
              "      <th>Age</th>\n",
              "      <th>Salary</th>\n",
              "      <th>Professional</th>\n",
              "      <th>Computer_Skill</th>\n",
              "      <th>Offer_Job</th>\n",
              "    </tr>\n",
              "  </thead>\n",
              "  <tbody>\n",
              "    <tr>\n",
              "      <th>0</th>\n",
              "      <td>Young</td>\n",
              "      <td>High</td>\n",
              "      <td>No</td>\n",
              "      <td>Fair</td>\n",
              "      <td>No</td>\n",
              "    </tr>\n",
              "    <tr>\n",
              "      <th>1</th>\n",
              "      <td>Young</td>\n",
              "      <td>High</td>\n",
              "      <td>No</td>\n",
              "      <td>Excellent</td>\n",
              "      <td>No</td>\n",
              "    </tr>\n",
              "    <tr>\n",
              "      <th>2</th>\n",
              "      <td>Middle</td>\n",
              "      <td>High</td>\n",
              "      <td>No</td>\n",
              "      <td>Fair</td>\n",
              "      <td>Yes</td>\n",
              "    </tr>\n",
              "    <tr>\n",
              "      <th>3</th>\n",
              "      <td>Old</td>\n",
              "      <td>Medium</td>\n",
              "      <td>No</td>\n",
              "      <td>Fair</td>\n",
              "      <td>Yes</td>\n",
              "    </tr>\n",
              "    <tr>\n",
              "      <th>4</th>\n",
              "      <td>Old</td>\n",
              "      <td>Low</td>\n",
              "      <td>Yes</td>\n",
              "      <td>Fair</td>\n",
              "      <td>Yes</td>\n",
              "    </tr>\n",
              "    <tr>\n",
              "      <th>5</th>\n",
              "      <td>Old</td>\n",
              "      <td>Low</td>\n",
              "      <td>Yes</td>\n",
              "      <td>Excellent</td>\n",
              "      <td>No</td>\n",
              "    </tr>\n",
              "    <tr>\n",
              "      <th>6</th>\n",
              "      <td>Middle</td>\n",
              "      <td>Low</td>\n",
              "      <td>Yes</td>\n",
              "      <td>Excellent</td>\n",
              "      <td>Yes</td>\n",
              "    </tr>\n",
              "    <tr>\n",
              "      <th>7</th>\n",
              "      <td>Young</td>\n",
              "      <td>Medium</td>\n",
              "      <td>No</td>\n",
              "      <td>Fair</td>\n",
              "      <td>No</td>\n",
              "    </tr>\n",
              "    <tr>\n",
              "      <th>8</th>\n",
              "      <td>Young</td>\n",
              "      <td>Low</td>\n",
              "      <td>Yes</td>\n",
              "      <td>Fair</td>\n",
              "      <td>Yes</td>\n",
              "    </tr>\n",
              "    <tr>\n",
              "      <th>9</th>\n",
              "      <td>Old</td>\n",
              "      <td>Medium</td>\n",
              "      <td>Yes</td>\n",
              "      <td>Fair</td>\n",
              "      <td>Yes</td>\n",
              "    </tr>\n",
              "    <tr>\n",
              "      <th>10</th>\n",
              "      <td>Young</td>\n",
              "      <td>Medium</td>\n",
              "      <td>Yes</td>\n",
              "      <td>Excellent</td>\n",
              "      <td>Yes</td>\n",
              "    </tr>\n",
              "    <tr>\n",
              "      <th>11</th>\n",
              "      <td>Middle</td>\n",
              "      <td>Medium</td>\n",
              "      <td>No</td>\n",
              "      <td>Excellent</td>\n",
              "      <td>Yes</td>\n",
              "    </tr>\n",
              "    <tr>\n",
              "      <th>12</th>\n",
              "      <td>Middle</td>\n",
              "      <td>High</td>\n",
              "      <td>Yes</td>\n",
              "      <td>Fair</td>\n",
              "      <td>Yes</td>\n",
              "    </tr>\n",
              "    <tr>\n",
              "      <th>13</th>\n",
              "      <td>Old</td>\n",
              "      <td>Medium</td>\n",
              "      <td>No</td>\n",
              "      <td>Excellent</td>\n",
              "      <td>No</td>\n",
              "    </tr>\n",
              "  </tbody>\n",
              "</table>\n",
              "</div>"
            ],
            "text/plain": [
              "       Age   Salary Professional  Computer_Skill Offer_Job\n",
              "0    Young     High            No           Fair        No\n",
              "1    Young     High            No      Excellent        No\n",
              "2   Middle     High            No           Fair       Yes\n",
              "3      Old  Medium             No           Fair       Yes\n",
              "4      Old      Low           Yes           Fair       Yes\n",
              "5      Old      Low           Yes      Excellent        No\n",
              "6   Middle      Low           Yes      Excellent       Yes\n",
              "7    Young  Medium             No           Fair        No\n",
              "8    Young      Low           Yes           Fair       Yes\n",
              "9      Old  Medium            Yes           Fair       Yes\n",
              "10   Young  Medium            Yes      Excellent       Yes\n",
              "11  Middle  Medium             No      Excellent       Yes\n",
              "12  Middle     High           Yes           Fair       Yes\n",
              "13     Old  Medium             No      Excellent        No"
            ]
          },
          "metadata": {},
          "execution_count": 38
        }
      ]
    },
    {
      "cell_type": "code",
      "metadata": {
        "id": "icdm0ZxyXET5"
      },
      "source": [
        "def id3_model(df):\n",
        "  entropy_node = 0  \n",
        "  values = df.Offer_Job.unique()  #Unique objects - 'Yes', 'No'\n",
        "  for value in values:\n",
        "    f = df.Offer_Job.value_counts()[value]/len(df.Offer_Job)  \n",
        "    entropy_node += -f*np.log2(f) \n",
        "  entropy_node\n",
        "\n",
        "  a_entropy = {k:ent(df,k) for k in df.keys()[:-1]}\n",
        "  a_entropy\n",
        "\n",
        "  Info_gain = {k:gain(entropy_node,a_entropy[k]) for k in a_entropy}"
      ],
      "execution_count": null,
      "outputs": []
    },
    {
      "cell_type": "code",
      "metadata": {
        "id": "mJ9oyBqW_wdj"
      },
      "source": [
        "def ent(df,attribute):\n",
        "    target_variables = df.Offer_Job.unique()  #This gives all 'Yes' and 'No'\n",
        "    variables = df[attribute].unique()    #This gives different features in that attribute \n",
        "\n",
        "\n",
        "    entropy_attribute = 0\n",
        "    for variable in variables:\n",
        "        entropy_each_feature = 0\n",
        "        for target_variable in target_variables:\n",
        "            num = len(df[attribute][df[attribute]==variable][df.Offer_Job ==target_variable]) \n",
        "            den = len(df[attribute][df[attribute]==variable])  \n",
        "            fraction = num/(den+eps)  \n",
        "            entropy_each_feature += -fraction*log(fraction+eps) \n",
        "        fraction2 = den/len(df)\n",
        "        entropy_attribute += -fraction2*entropy_each_feature   \n",
        "\n",
        "    return(abs(entropy_attribute))"
      ],
      "execution_count": null,
      "outputs": []
    },
    {
      "cell_type": "code",
      "metadata": {
        "id": "s-MruiNn_4qK"
      },
      "source": [
        "def gain(e_dataset,e_attr):\n",
        "    return(e_dataset-e_attr)"
      ],
      "execution_count": null,
      "outputs": []
    },
    {
      "cell_type": "code",
      "metadata": {
        "id": "dNxehEv1ABRt"
      },
      "source": [
        "def find_entropy(df):\n",
        "    Class = df.keys()[-1]   \n",
        "    entropy = 0\n",
        "    values = df[Class].unique()\n",
        "    for value in values:\n",
        "        fraction = df[Class].value_counts()[value]/len(df[Class])\n",
        "        entropy += -fraction*np.log2(fraction)\n",
        "    return entropy\n",
        "  \n",
        "  \n",
        "def entropy_attribute(df,attribute):\n",
        "  Class = df.keys()[-1]  \n",
        "  target_variables = df[Class].unique()  #This gives all 'Yes' and 'No'\n",
        "  variables = df[attribute].unique()    \n",
        "  entropy2 = 0\n",
        "  for variable in variables:\n",
        "      entropy = 0\n",
        "      for target_variable in target_variables:\n",
        "          num = len(df[attribute][df[attribute]==variable][df[Class] ==target_variable])\n",
        "          den = len(df[attribute][df[attribute]==variable])\n",
        "          fraction = num/(den+eps)\n",
        "          entropy += -fraction*log(fraction+eps)\n",
        "      fraction2 = den/len(df)\n",
        "      entropy2 += -fraction2*entropy\n",
        "  return abs(entropy2)\n",
        "\n",
        "\n",
        "def find_winner(df):\n",
        "    Entropy_att = []\n",
        "    Info_gain = []\n",
        "    for key in df.keys()[:-1]:\n",
        "        Info_gain.append(find_entropy(df)-entropy_attribute(df,key))\n",
        "    return df.keys()[:-1][np.argmax(Info_gain)]\n",
        "  \n",
        "  \n",
        "def subtree(df, node,value):\n",
        "  return df[df[node] == value].reset_index(drop=True)\n",
        "\n",
        "\n",
        "def buildDT(df,tree=None): \n",
        "    Class = df.keys()[-1]   \n",
        "    node = find_winner(df)\n",
        "    attValue = np.unique(df[node])\n",
        "    if tree is None:                    \n",
        "        tree={}\n",
        "        tree[node] = {}\n",
        "\n",
        "    for value in attValue:\n",
        "        \n",
        "        subtable = subtree(df,node,value)\n",
        "        clValue,counts = np.unique(subtable['Offer_Job'],return_counts=True)                        \n",
        "        \n",
        "        if len(counts)==1:#Checking purity of subset\n",
        "            tree[node][value] = clValue[0]                                                    \n",
        "        else:        \n",
        "            tree[node][value] = buildDT(subtable) #Calling the function recursively \n",
        "                   \n",
        "    return tree"
      ],
      "execution_count": null,
      "outputs": []
    },
    {
      "cell_type": "code",
      "metadata": {
        "id": "4n7sEya2Z8iZ"
      },
      "source": [
        "id3_model(df)"
      ],
      "execution_count": null,
      "outputs": []
    },
    {
      "cell_type": "code",
      "metadata": {
        "id": "4JB8t8fGASjM"
      },
      "source": [
        "t = buildDT(df)"
      ],
      "execution_count": null,
      "outputs": []
    },
    {
      "cell_type": "code",
      "metadata": {
        "colab": {
          "base_uri": "https://localhost:8080/"
        },
        "id": "PSWyXvybB-zT",
        "outputId": "aae3f8c9-2c8e-4147-8bfe-090c614b6b1c"
      },
      "source": [
        "import pprint \n",
        "pprint.pprint(t)"
      ],
      "execution_count": null,
      "outputs": [
        {
          "output_type": "stream",
          "name": "stdout",
          "text": [
            "{'Age': {'Middle': 'Yes',\n",
            "         'Old': {'Computer_Skill': {'Excellent': 'No', 'Fair': 'Yes'}},\n",
            "         'Young': {'Professional ': {'No': 'No', 'Yes': 'Yes'}}}}\n"
          ]
        }
      ]
    },
    {
      "cell_type": "code",
      "metadata": {
        "id": "pzN0JfhoO_9I"
      },
      "source": [
        "import pydot\n",
        "def makeGraph(parent_name, child_name):\n",
        "    edge = pydot.Edge(parent_name, child_name)\n",
        "    graph.add_edge(edge)\n",
        "\n",
        "def visit(node, parent=None):\n",
        "    for k,v in node.items():\n",
        "        if isinstance(v, dict):\n",
        "            if parent:\n",
        "                makeGraph(parent, k)\n",
        "            visit(v, k)\n",
        "        else:\n",
        "            makeGraph(parent, k)\n",
        "            makeGraph(k, v)\n",
        "\n",
        "graph = pydot.Dot(graph_type='graph')\n",
        "visit(t)\n",
        "graph.write_png('id3_decision_tree.png')"
      ],
      "execution_count": null,
      "outputs": []
    },
    {
      "cell_type": "code",
      "metadata": {
        "id": "tTB_S4uPPtAJ"
      },
      "source": [
        "def predict(tree, instance):\n",
        "    if not isinstance(tree, dict): \n",
        "        return tree \n",
        "    else:\n",
        "        root_node = next(iter(tree)) \n",
        "        feature_value = instance[root_node] \n",
        "        if feature_value in tree[root_node]: \n",
        "            return predict(tree[root_node][feature_value], instance) \n",
        "        else:\n",
        "            return None"
      ],
      "execution_count": null,
      "outputs": []
    },
    {
      "cell_type": "code",
      "metadata": {
        "id": "Jr7Dj4A0Pv14"
      },
      "source": [
        "def evaluate(tree, test_data_m, label):\n",
        "    true = 0\n",
        "    false = 0\n",
        "    i=0\n",
        "    for row in test_data_m.iterrows(): \n",
        "        result = predict(tree, test_data_m.iloc[i]) \n",
        "        if result == test_data_m[label].iloc[i]:\n",
        "            true += 1\n",
        "        else:\n",
        "            false += 1 \n",
        "        i+=1\n",
        "    accuracy = true / (true + false) #calculating accuracy\n",
        "    return accuracy"
      ],
      "execution_count": null,
      "outputs": []
    },
    {
      "cell_type": "code",
      "metadata": {
        "colab": {
          "base_uri": "https://localhost:8080/"
        },
        "id": "mHGOnCCfPyUW",
        "outputId": "375cb56c-36c5-462e-b2b3-0285b872e886"
      },
      "source": [
        "test = df.sample(frac=0.25, random_state=25)\n",
        "evaluate(t, test, 'Offer_Job')"
      ],
      "execution_count": null,
      "outputs": [
        {
          "output_type": "execute_result",
          "data": {
            "text/plain": [
              "1.0"
            ]
          },
          "metadata": {},
          "execution_count": 49
        }
      ]
    },
    {
      "cell_type": "code",
      "metadata": {
        "colab": {
          "base_uri": "https://localhost:8080/",
          "height": 174
        },
        "id": "-3g5wfOcVLF8",
        "outputId": "728b6e1c-d242-4a48-8636-ebf9589dc8b1"
      },
      "source": [
        "test"
      ],
      "execution_count": null,
      "outputs": [
        {
          "output_type": "execute_result",
          "data": {
            "text/html": [
              "<div>\n",
              "<style scoped>\n",
              "    .dataframe tbody tr th:only-of-type {\n",
              "        vertical-align: middle;\n",
              "    }\n",
              "\n",
              "    .dataframe tbody tr th {\n",
              "        vertical-align: top;\n",
              "    }\n",
              "\n",
              "    .dataframe thead th {\n",
              "        text-align: right;\n",
              "    }\n",
              "</style>\n",
              "<table border=\"1\" class=\"dataframe\">\n",
              "  <thead>\n",
              "    <tr style=\"text-align: right;\">\n",
              "      <th></th>\n",
              "      <th>Age</th>\n",
              "      <th>Salary</th>\n",
              "      <th>Professional</th>\n",
              "      <th>Computer_Skill</th>\n",
              "      <th>Offer_Job</th>\n",
              "    </tr>\n",
              "  </thead>\n",
              "  <tbody>\n",
              "    <tr>\n",
              "      <th>0</th>\n",
              "      <td>Young</td>\n",
              "      <td>High</td>\n",
              "      <td>No</td>\n",
              "      <td>Fair</td>\n",
              "      <td>No</td>\n",
              "    </tr>\n",
              "    <tr>\n",
              "      <th>9</th>\n",
              "      <td>Old</td>\n",
              "      <td>Medium</td>\n",
              "      <td>Yes</td>\n",
              "      <td>Fair</td>\n",
              "      <td>Yes</td>\n",
              "    </tr>\n",
              "    <tr>\n",
              "      <th>3</th>\n",
              "      <td>Old</td>\n",
              "      <td>Medium</td>\n",
              "      <td>No</td>\n",
              "      <td>Fair</td>\n",
              "      <td>Yes</td>\n",
              "    </tr>\n",
              "    <tr>\n",
              "      <th>5</th>\n",
              "      <td>Old</td>\n",
              "      <td>Low</td>\n",
              "      <td>Yes</td>\n",
              "      <td>Excellent</td>\n",
              "      <td>No</td>\n",
              "    </tr>\n",
              "  </tbody>\n",
              "</table>\n",
              "</div>"
            ],
            "text/plain": [
              "     Age   Salary Professional  Computer_Skill Offer_Job\n",
              "0  Young     High            No           Fair        No\n",
              "9    Old  Medium            Yes           Fair       Yes\n",
              "3    Old  Medium             No           Fair       Yes\n",
              "5    Old      Low           Yes      Excellent        No"
            ]
          },
          "metadata": {},
          "execution_count": 50
        }
      ]
    },
    {
      "cell_type": "code",
      "metadata": {
        "id": "1BS3wmGEVMlw"
      },
      "source": [
        "id3_model(test)\n",
        "test_tree = buildDT(test)"
      ],
      "execution_count": null,
      "outputs": []
    },
    {
      "cell_type": "code",
      "metadata": {
        "colab": {
          "base_uri": "https://localhost:8080/"
        },
        "id": "aO_G1RXdVXh4",
        "outputId": "920e4208-f5d1-4a7b-e8c2-b914388f411c"
      },
      "source": [
        "pprint.pprint(test_tree)"
      ],
      "execution_count": null,
      "outputs": [
        {
          "output_type": "stream",
          "name": "stdout",
          "text": [
            "{'Salary': {'High': 'No', 'Low': 'No', 'Medium ': 'Yes'}}\n"
          ]
        }
      ]
    },
    {
      "cell_type": "code",
      "metadata": {
        "id": "QNWOkp_jVhgg"
      },
      "source": [
        "graph = pydot.Dot(graph_type='graph')\n",
        "visit(test_tree)\n",
        "graph.write_png('id3_test_decision_tree.png')"
      ],
      "execution_count": null,
      "outputs": []
    }
  ]
}